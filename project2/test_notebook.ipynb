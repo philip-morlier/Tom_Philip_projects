{
 "cells": [
  {
   "cell_type": "code",
   "execution_count": 14,
   "metadata": {},
   "outputs": [],
   "source": [
    "from bs4 import BeautifulSoup as bs\n",
    "import requests as rq\n",
    "import pandas as pd\n",
    "\n",
    "accounts=['NRA','CDCEmergency','netflix']\n",
    "\n",
    "def tweets_to_csv(account):\n",
    "    url=f'https://twitter.com/{account}'\n",
    "    html = rq.get(url) \n",
    "    soup = bs(html.text, 'html.parser')\n",
    "    tweets=list(soup.find_all('p',class_=\"TweetTextSize TweetTextSize--normal js-tweet-text tweet-text\"))\n",
    "    tweet_list=[]\n",
    "    for x in tweets:\n",
    "        tweet_list.append(str(x.get_text()))\n",
    "    return tweet_list\n",
    "#     tweets_df=pd.DataFrame({account:tweet_list})\n",
    "#     tweets_df.to_csv(r'C:\\Users\\phili\\Documents\\GitHub\\project2\\tweet_csvs\\{}_tweets.csv'.format(account), index=False)"
   ]
  },
  {
   "cell_type": "code",
   "execution_count": 19,
   "metadata": {},
   "outputs": [],
   "source": [
    " for account in accounts:\n",
    "        tweets_to_csv(account)"
   ]
  },
  {
   "cell_type": "code",
   "execution_count": 26,
   "metadata": {},
   "outputs": [],
   "source": [
    "nra=list(tweets_to_csv('NRA'))"
   ]
  },
  {
   "cell_type": "code",
   "execution_count": 27,
   "metadata": {},
   "outputs": [],
   "source": [
    "cdc=list(tweets_to_csv('CDCEmergency'))"
   ]
  },
  {
   "cell_type": "code",
   "execution_count": 29,
   "metadata": {},
   "outputs": [],
   "source": [
    "ntfl=list(tweets_to_csv('netflix'))"
   ]
  },
  {
   "cell_type": "code",
   "execution_count": 30,
   "metadata": {},
   "outputs": [
    {
     "data": {
      "text/plain": [
       "['About Time blessed us with the most perfect first date in any movie, ever. pic.twitter.com/Ar40OfNMW5 #NetflixMovieNight',\n",
       " 'Omg just watched #tigertail on netflix and sobbed like a child. Never saw a movie that hit me on so many levels. Ugh wow it’s so beautifulpic.twitter.com/WvSPejflum',\n",
       " 'Please watch #Tigertail on Netflix guys. It’s a beautiful film, made me think of my parents  wonderful acting all around as well! @Christine_Ko @tzima8 pic.twitter.com/ttwwsngDVh',\n",
       " \"Very excited to watch a different tiger project that just released on @netflix today... TIGERTAIL. The insanely talented @alanyang (parks & rec, master of none) has high integrity, and this is his first dramatic film. Don't let the little gems like this one go unseen!pic.twitter.com/bGL0di7SOJ\",\n",
       " 'After an open casting call, Maitreyi Ramakrishnan went from starring in high school plays to starring in a TV show co-created by Mindy Kaling!  \\n\\nOn April 27, watch the brilliant newcomer make her screen debut in the truly charming Never Have I Everpic.twitter.com/KtwXAC38NU',\n",
       " 'all these <shirtless men> in outer banks...... i love it here i really dopic.twitter.com/VJgElTpug6',\n",
       " \"Folks. FOLKS. #OuterBanks on Netflix is INCREDIBLE. No joke. It's The OC meets Goonies, as a bunch of teens hunt for treasure on an island split between the haves and the have nots. The cast is instantly iconic, the direction/writing are great... This is your new favorite show.\",\n",
       " \"Dawson's Creek + Goonies = Outer Bankspic.twitter.com/o33NFH9Bow\",\n",
       " 'BEST SQUAD EVER! #EliteNetflix #Elite @ELITENETFLlX @netflixpic.twitter.com/ihhjPdZ3kc',\n",
       " 'That one cousin with the HOT TAKES \\nMrs. Doubtfire =  a white Juwanna Mann \\n#blackAF premieres this Friday on @netflix. \\n cc: @MelvinGreggpic.twitter.com/bHSCWl5d4R',\n",
       " \"If you have seen About Time, you know it is CRIMINALLY underrated. And if you haven't seen it, then you need to fix that immediately and watch it with us tonight at 6pm PT. #NetflixMovieNightpic.twitter.com/2cCTLmd8yu\",\n",
       " 'Great British Baking Show winner, the all-around delightful Nadiya Hussain finally gets what she deserves: her own show!pic.twitter.com/Jalbvuy0gx',\n",
       " 'Unbreakable Kimmy Schmidt: Kimmy vs. the Reverend — an all-new interactive special premieres May 12\\n\\nEllie Kemper, \\xa0Tituss Burgess,\\xa0Jane Krakow\\xadski,\\xa0Carol Kane, and Jon Hamm return — plus Daniel Radcliffe joins in on the fun as you get to decide how the story ends!pic.twitter.com/HU2tjF8xY2',\n",
       " 'feeling personally attacked by Alba Villanueva rnpic.twitter.com/k6b0J81nwq',\n",
       " 'I just discovered #NailedIt on Netflix and my face hurts from laughing so much.',\n",
       " \"Don't ask me how but I watched the latest series of 'Nailed It' and I have to say I needed that chuckle.  So funny and rather brilliant. I've never seen the show before either. Netflix just recommend it.  #writerslifepic.twitter.com/u0jnZvCEED\",\n",
       " 'If you’re bored during lockdown I recommend ‘Nailed It’ on Netflix. It’s like the maddest version of bake off with people who can’t bake. It’s brilliant ',\n",
       " 'Nailed It! I don’t think I have ever laughed so consistently through a series. Bravo Netflix, Bravo #nailedit',\n",
       " 'Rooney Mara has about 5 total minutes of screentime in The Social Network yet is easily one of the best parts of the filmpic.twitter.com/zcw4R2f8ao',\n",
       " 'Ok best show u have watched while being at home?!?!  Me. Ozark season 3 on @netflix']"
      ]
     },
     "execution_count": 30,
     "metadata": {},
     "output_type": "execute_result"
    }
   ],
   "source": []
  },
  {
   "cell_type": "code",
   "execution_count": null,
   "metadata": {},
   "outputs": [],
   "source": []
  }
 ],
 "metadata": {
  "kernelspec": {
   "display_name": "Python 3",
   "language": "python",
   "name": "python3"
  },
  "language_info": {
   "codemirror_mode": {
    "name": "ipython",
    "version": 3
   },
   "file_extension": ".py",
   "mimetype": "text/x-python",
   "name": "python",
   "nbconvert_exporter": "python",
   "pygments_lexer": "ipython3",
   "version": "3.6.9"
  }
 },
 "nbformat": 4,
 "nbformat_minor": 2
}
