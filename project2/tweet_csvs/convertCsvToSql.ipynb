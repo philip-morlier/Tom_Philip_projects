{
 "cells": [
  {
   "cell_type": "code",
   "execution_count": 1,
   "metadata": {},
   "outputs": [],
   "source": [
    "import pandas as pd"
   ]
  },
  {
   "cell_type": "code",
   "execution_count": null,
   "metadata": {},
   "outputs": [],
   "source": [
    "#Making a Primary Table for Our different Tweets\n",
    "category_table = pd.DataFrame(([['NET', 'Netflix Tweet'], ['CDC', 'CDC Tweet'], ['NRA', 'NRA Tweet']]), \n",
    "                 columns=['Tweet ID', 'Tweet Category'])\n",
    "category_table"
   ]
  },
  {
   "cell_type": "code",
   "execution_count": null,
   "metadata": {},
   "outputs": [],
   "source": [
    "category_table.to_csv('category_table.csv', index=False)  "
   ]
  },
  {
   "cell_type": "code",
   "execution_count": null,
   "metadata": {},
   "outputs": [],
   "source": [
    "germ_tweet= pd.read_csv('CDCEmergency_tweets.csv')\n",
    "count = germ_tweet['CDCEmergency']\n",
    "for x in count:\n",
    "    germ_tweet['Tweet ID'] = 'CDC'\n",
    "netflix_tweet = netflix_tweet.rename(columns={'CDCEmergency':'CDC Tweet'})\n",
    "netflix_tweet = netflix_tweet[['Tweet ID', 'CDC Tweet']]"
   ]
  },
  {
   "cell_type": "code",
   "execution_count": null,
   "metadata": {},
   "outputs": [],
   "source": [
    "germ_tweet.to_csv('CDCEmergency_tweets.csv', index=False)"
   ]
  },
  {
   "cell_type": "code",
   "execution_count": null,
   "metadata": {},
   "outputs": [],
   "source": [
    "netflix_tweet = pd.read_csv('netflix_tweets.csv')\n",
    "count = netflix_tweet['netflix']\n",
    "for x in count:\n",
    "    netflix_tweet['Tweet ID'] = 'NET'\n",
    "netflix_tweet = netflix_tweet[['Tweet ID', 'netflix']]\n",
    "netflix_tweet = netflix_tweet.rename(columns={'netflix': 'Netflix Tweet'})\n",
    "netflix_tweet.to_csv('netflix_tweets.csv', index = False)"
   ]
  },
  {
   "cell_type": "code",
   "execution_count": 9,
   "metadata": {},
   "outputs": [],
   "source": [
    "NRA_tweet = pd.read_csv('NRA_tweets.csv')\n",
    "count = NRA_tweet['NRA']\n",
    "for x in count:\n",
    "    NRA_tweet['Tweet ID'] = 'NRA'\n",
    "NRA_tweet = NRA_tweet.rename(columns={'NRA': 'NRA Tweet'})\n",
    "NRA_tweet = NRA_tweet[['Tweet ID', 'NRA Tweet']]\n",
    "NRA_tweet.to_csv('NRA_tweets.csv', index = False)"
   ]
  },
  {
   "cell_type": "code",
   "execution_count": 11,
   "metadata": {},
   "outputs": [],
   "source": []
  },
  {
   "cell_type": "code",
   "execution_count": null,
   "metadata": {},
   "outputs": [],
   "source": []
  }
 ],
 "metadata": {
  "kernelspec": {
   "display_name": "Python 3",
   "language": "python",
   "name": "python3"
  },
  "language_info": {
   "codemirror_mode": {
    "name": "ipython",
    "version": 3
   },
   "file_extension": ".py",
   "mimetype": "text/x-python",
   "name": "python",
   "nbconvert_exporter": "python",
   "pygments_lexer": "ipython3",
   "version": "3.7.5"
  }
 },
 "nbformat": 4,
 "nbformat_minor": 4
}
