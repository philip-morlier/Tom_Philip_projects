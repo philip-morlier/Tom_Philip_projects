{
 "cells": [
  {
   "cell_type": "code",
   "execution_count": 3,
   "metadata": {},
   "outputs": [],
   "source": [
    "import pandas as pd\n",
    "from pytrends.request import TrendReq\n",
    "pytrend = TrendReq()"
   ]
  },
  {
   "cell_type": "code",
   "execution_count": 4,
   "metadata": {},
   "outputs": [
    {
     "name": "stdout",
     "output_type": "stream",
     "text": [
      "            toilot paper isPartial\n",
      "date                              \n",
      "2020-02-02             0     False\n",
      "2020-02-09             0     False\n",
      "2020-02-16             0     False\n",
      "2020-02-23             0     False\n",
      "2020-03-01            26     False\n",
      "2020-03-08            77     False\n",
      "2020-03-15            77     False\n",
      "2020-03-22           100     False\n",
      "2020-03-29             0     False\n",
      "2020-04-05             0      True\n"
     ]
    }
   ],
   "source": [
    "# Create payload and capture API tokens. Only needed for interest_over_time(), interest_by_region() &amp; related_queries()\n",
    "pytrend.build_payload(kw_list=['toilot paper'])\n",
    " \n",
    "# Interest Over Time\n",
    "interest_over_time_df = pytrend.interest_over_time()\n",
    "print(interest_over_time_df.tail(10))"
   ]
  },
  {
   "cell_type": "code",
   "execution_count": 9,
   "metadata": {},
   "outputs": [
    {
     "name": "stdout",
     "output_type": "stream",
     "text": [
      "            bunker isPartial\n",
      "date                        \n",
      "2020-02-02      57     False\n",
      "2020-02-09      59     False\n",
      "2020-02-16      60     False\n",
      "2020-02-23      60     False\n",
      "2020-03-01      57     False\n",
      "2020-03-08      67     False\n",
      "2020-03-15      74     False\n",
      "2020-03-22      70     False\n",
      "2020-03-29      71     False\n",
      "2020-04-05      68      True\n"
     ]
    }
   ],
   "source": [
    "# Create payload and capture API tokens. Only needed for interest_over_time(), interest_by_region() &amp; related_queries()\n",
    "pytrend.build_payload(kw_list=['bunker'])\n",
    " \n",
    "# Interest Over Time\n",
    "interest_over_time_df = pytrend.interest_over_time()\n",
    "print(interest_over_time_df.tail(10))"
   ]
  },
  {
   "cell_type": "code",
   "execution_count": 7,
   "metadata": {},
   "outputs": [
    {
     "name": "stdout",
     "output_type": "stream",
     "text": [
      "            ar 15 isPartial\n",
      "date                       \n",
      "2020-02-02     15     False\n",
      "2020-02-09     15     False\n",
      "2020-02-16     16     False\n",
      "2020-02-23     17     False\n",
      "2020-03-01     15     False\n",
      "2020-03-08     17     False\n",
      "2020-03-15     30     False\n",
      "2020-03-22     29     False\n",
      "2020-03-29     24     False\n",
      "2020-04-05     23      True\n"
     ]
    }
   ],
   "source": [
    "# Create payload and capture API tokens. Only needed for interest_over_time(), interest_by_region() &amp; related_queries()\n",
    "pytrend.build_payload(kw_list=['ar 15'])\n",
    " \n",
    "# Interest Over Time\n",
    "interest_over_time_df = pytrend.interest_over_time()\n",
    "print(interest_over_time_df.tail(10))"
   ]
  },
  {
   "cell_type": "code",
   "execution_count": 10,
   "metadata": {},
   "outputs": [
    {
     "name": "stdout",
     "output_type": "stream",
     "text": [
      "            assault rifle isPartial\n",
      "date                               \n",
      "2020-02-02             11     False\n",
      "2020-02-09             13     False\n",
      "2020-02-16             15     False\n",
      "2020-02-23             14     False\n",
      "2020-03-01             13     False\n",
      "2020-03-08             13     False\n",
      "2020-03-15             16     False\n",
      "2020-03-22             22     False\n",
      "2020-03-29             21     False\n",
      "2020-04-05             22      True\n"
     ]
    }
   ],
   "source": [
    "# Create payload and capture API tokens. Only needed for interest_over_time(), interest_by_region() &amp; related_queries()\n",
    "pytrend.build_payload(kw_list=['assault rifle'])\n",
    " \n",
    "# Interest Over Time\n",
    "interest_over_time_df = pytrend.interest_over_time()\n",
    "print(interest_over_time_df.tail(10))"
   ]
  },
  {
   "cell_type": "code",
   "execution_count": 11,
   "metadata": {},
   "outputs": [
    {
     "name": "stdout",
     "output_type": "stream",
     "text": [
      "            streaming isPartial\n",
      "date                           \n",
      "2020-02-02         42     False\n",
      "2020-02-09         45     False\n",
      "2020-02-16         47     False\n",
      "2020-02-23         48     False\n",
      "2020-03-01         45     False\n",
      "2020-03-08         50     False\n",
      "2020-03-15         60     False\n",
      "2020-03-22         64     False\n",
      "2020-03-29         59     False\n",
      "2020-04-05         57      True\n"
     ]
    }
   ],
   "source": [
    "# Create payload and capture API tokens. Only needed for interest_over_time(), interest_by_region() &amp; related_queries()\n",
    "pytrend.build_payload(kw_list=['streaming'])\n",
    " \n",
    "# Interest Over Time\n",
    "interest_over_time_df = pytrend.interest_over_time()\n",
    "print(interest_over_time_df.tail(10))"
   ]
  },
  {
   "cell_type": "code",
   "execution_count": 12,
   "metadata": {},
   "outputs": [
    {
     "name": "stdout",
     "output_type": "stream",
     "text": [
      "            netflix isPartial\n",
      "date                         \n",
      "2020-02-02       51     False\n",
      "2020-02-09       50     False\n",
      "2020-02-16       49     False\n",
      "2020-02-23       51     False\n",
      "2020-03-01       48     False\n",
      "2020-03-08       52     False\n",
      "2020-03-15       84     False\n",
      "2020-03-22      100     False\n",
      "2020-03-29      100     False\n",
      "2020-04-05       91      True\n"
     ]
    }
   ],
   "source": [
    "# Create payload and capture API tokens. Only needed for interest_over_time(), interest_by_region() &amp; related_queries()\n",
    "pytrend.build_payload(kw_list=['netflix'])\n",
    " \n",
    "# Interest Over Time\n",
    "interest_over_time_df = pytrend.interest_over_time()\n",
    "print(interest_over_time_df.tail(10))"
   ]
  },
  {
   "cell_type": "code",
   "execution_count": 13,
   "metadata": {},
   "outputs": [
    {
     "name": "stdout",
     "output_type": "stream",
     "text": [
      "            porn isPartial\n",
      "date                      \n",
      "2020-02-02    71     False\n",
      "2020-02-09    73     False\n",
      "2020-02-16    74     False\n",
      "2020-02-23    71     False\n",
      "2020-03-01    72     False\n",
      "2020-03-08    71     False\n",
      "2020-03-15    73     False\n",
      "2020-03-22    76     False\n",
      "2020-03-29    74     False\n",
      "2020-04-05    73      True\n"
     ]
    }
   ],
   "source": [
    "# Create payload and capture API tokens. Only needed for interest_over_time(), interest_by_region() &amp; related_queries()\n",
    "pytrend.build_payload(kw_list=['porn'])\n",
    " \n",
    "# Interest Over Time\n",
    "interest_over_time_df = pytrend.interest_over_time()\n",
    "print(interest_over_time_df.tail(10))"
   ]
  },
  {
   "cell_type": "code",
   "execution_count": 15,
   "metadata": {},
   "outputs": [
    {
     "name": "stdout",
     "output_type": "stream",
     "text": [
      "            liquor isPartial\n",
      "date                        \n",
      "2020-02-02      37     False\n",
      "2020-02-09      39     False\n",
      "2020-02-16      39     False\n",
      "2020-02-23      38     False\n",
      "2020-03-01      40     False\n",
      "2020-03-08      39     False\n",
      "2020-03-15      77     False\n",
      "2020-03-22      74     False\n",
      "2020-03-29      79     False\n",
      "2020-04-05      64      True\n"
     ]
    }
   ],
   "source": [
    "# Create payload and capture API tokens. Only needed for interest_over_time(), interest_by_region() &amp; related_queries()\n",
    "pytrend.build_payload(kw_list=['liquor'])\n",
    " \n",
    "# Interest Over Time\n",
    "interest_over_time_df = pytrend.interest_over_time()\n",
    "print(interest_over_time_df.tail(10))"
   ]
  },
  {
   "cell_type": "code",
   "execution_count": 16,
   "metadata": {},
   "outputs": [
    {
     "name": "stdout",
     "output_type": "stream",
     "text": [
      "            marijuana isPartial\n",
      "date                           \n",
      "2020-02-02         30     False\n",
      "2020-02-09         29     False\n",
      "2020-02-16         30     False\n",
      "2020-02-23         29     False\n",
      "2020-03-01         28     False\n",
      "2020-03-08         25     False\n",
      "2020-03-15         24     False\n",
      "2020-03-22         25     False\n",
      "2020-03-29         24     False\n",
      "2020-04-05         24      True\n"
     ]
    }
   ],
   "source": [
    "# Create payload and capture API tokens. Only needed for interest_over_time(), interest_by_region() &amp; related_queries()\n",
    "pytrend.build_payload(kw_list=['marijuana'])\n",
    " \n",
    "# Interest Over Time\n",
    "interest_over_time_df = pytrend.interest_over_time()\n",
    "print(interest_over_time_df.tail(10))"
   ]
  },
  {
   "cell_type": "code",
   "execution_count": null,
   "metadata": {},
   "outputs": [],
   "source": []
  }
 ],
 "metadata": {
  "kernelspec": {
   "display_name": "Python 3.7.6 64-bit ('PythonData': conda)",
   "language": "python",
   "name": "python37664bitpythondataconda7acc8f02ce504f3db755a3a57bbde654"
  },
  "language_info": {
   "codemirror_mode": {
    "name": "ipython",
    "version": 3
   },
   "file_extension": ".py",
   "mimetype": "text/x-python",
   "name": "python",
   "nbconvert_exporter": "python",
   "pygments_lexer": "ipython3",
   "version": "3.7.6"
  }
 },
 "nbformat": 4,
 "nbformat_minor": 4
}
